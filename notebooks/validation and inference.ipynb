{
 "cells": [
  {
   "cell_type": "code",
   "execution_count": 1,
   "id": "4d053a68-e4fe-4d38-818a-0e442701a287",
   "metadata": {},
   "outputs": [],
   "source": [
    "import os\n",
    "import torch\n",
    "import torch.nn as nn\n",
    "import numpy as np\n",
    "import cv2\n",
    "from torch.utils.data import DataLoader\n",
    "from dataset import LiverTumorDataset\n",
    "from unet import UNet"
   ]
  },
  {
   "cell_type": "code",
   "execution_count": 3,
   "id": "da11f212-ad94-4a0d-b38b-98f23281b320",
   "metadata": {},
   "outputs": [
    {
     "name": "stdout",
     "output_type": "stream",
     "text": [
      "Loaded final model for inference.\n"
     ]
    }
   ],
   "source": [
    "device = torch.device(\"cuda\" if torch.cuda.is_available() else \"cpu\")\n",
    "model = UNet().to(device)\n",
    "model.load_state_dict(torch.load(\"unet_liver_final.pth\"))\n",
    "model.eval()\n",
    "print(\"Loaded final model for inference.\")"
   ]
  },
  {
   "cell_type": "code",
   "execution_count": 5,
   "id": "7ed6fbf1-c787-432f-84f5-2c6fdcdb0685",
   "metadata": {},
   "outputs": [],
   "source": [
    "val_dataset = LiverTumorDataset(\"val_balanced.txt\", image_size=(256, 256))\n",
    "val_loader = DataLoader(val_dataset, batch_size=1, shuffle=False, num_workers=0)"
   ]
  },
  {
   "cell_type": "code",
   "execution_count": 7,
   "id": "1059b1ba-3967-488f-a14a-8b326aa194ce",
   "metadata": {},
   "outputs": [],
   "source": [
    "def dice_score(pred, target, smooth=1e-6):\n",
    "    pred = pred.view(-1)\n",
    "    target = target.view(-1)\n",
    "    intersection = (pred * target).sum()\n",
    "    return (2. * intersection + smooth) / (pred.sum() + target.sum() + smooth)\n",
    "\n",
    "def iou_score(pred, target, smooth=1e-6):\n",
    "    pred = pred.view(-1)\n",
    "    target = target.view(-1)\n",
    "    intersection = (pred * target).sum()\n",
    "    union = pred.sum() + target.sum() - intersection\n",
    "    return (intersection + smooth) / (union + smooth)"
   ]
  },
  {
   "cell_type": "code",
   "execution_count": 9,
   "id": "236ca1f8-3aff-4cc5-bad2-5f710678d1a3",
   "metadata": {},
   "outputs": [
    {
     "name": "stdout",
     "output_type": "stream",
     "text": [
      "\n",
      "Validation Dice Score: 0.9022\n",
      "Validation IoU Score : 0.8706\n"
     ]
    }
   ],
   "source": [
    "dice_scores = []\n",
    "iou_scores = []\n",
    "\n",
    "with torch.no_grad():\n",
    "    for images, masks in val_loader:\n",
    "        images, masks = images.to(device), masks.to(device)\n",
    "        outputs = model(images)\n",
    "        preds = (outputs > 0.5).float()\n",
    "\n",
    "        dice_scores.append(dice_score(preds, masks).item())\n",
    "        iou_scores.append(iou_score(preds, masks).item())\n",
    "\n",
    "print(f\"\\nValidation Dice Score: {np.mean(dice_scores):.4f}\")\n",
    "print(f\"Validation IoU Score : {np.mean(iou_scores):.4f}\")"
   ]
  },
  {
   "cell_type": "code",
   "execution_count": 11,
   "id": "207c1987-ff52-4e94-8854-b09fc77de252",
   "metadata": {},
   "outputs": [
    {
     "name": "stdout",
     "output_type": "stream",
     "text": [
      "Saved visual predictions to val_predictions/\n"
     ]
    }
   ],
   "source": [
    "os.makedirs(\"val_predictions\", exist_ok=True)\n",
    "\n",
    "for i in range(5):\n",
    "    image, mask = val_dataset[i]\n",
    "    with torch.no_grad():\n",
    "        pred = model(image.unsqueeze(0).to(device))\n",
    "        pred = (pred > 0.5).float().cpu().numpy().squeeze()\n",
    "\n",
    "    image_np = image.squeeze().numpy() * 255\n",
    "    mask_np = mask.squeeze().numpy() * 255\n",
    "    pred_np = pred * 255\n",
    "\n",
    "    stacked = np.hstack([\n",
    "        cv2.cvtColor(image_np.astype(np.uint8), cv2.COLOR_GRAY2BGR),\n",
    "        cv2.cvtColor(mask_np.astype(np.uint8), cv2.COLOR_GRAY2BGR),\n",
    "        cv2.cvtColor(pred_np.astype(np.uint8), cv2.COLOR_GRAY2BGR)\n",
    "    ])\n",
    "\n",
    "    cv2.imwrite(f\"val_predictions/sample_{i}.png\", stacked)\n",
    "\n",
    "print(\"Saved visual predictions to val_predictions/\")"
   ]
  },
  {
   "cell_type": "code",
   "execution_count": null,
   "id": "fe8c0c16-60fd-4109-bceb-6534aab892cc",
   "metadata": {},
   "outputs": [],
   "source": []
  }
 ],
 "metadata": {
  "kernelspec": {
   "display_name": "Python 3 (ipykernel)",
   "language": "python",
   "name": "python3"
  },
  "language_info": {
   "codemirror_mode": {
    "name": "ipython",
    "version": 3
   },
   "file_extension": ".py",
   "mimetype": "text/x-python",
   "name": "python",
   "nbconvert_exporter": "python",
   "pygments_lexer": "ipython3",
   "version": "3.12.4"
  }
 },
 "nbformat": 4,
 "nbformat_minor": 5
}

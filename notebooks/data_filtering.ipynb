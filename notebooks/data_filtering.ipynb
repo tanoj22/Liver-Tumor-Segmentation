{
 "cells": [
  {
   "cell_type": "code",
   "execution_count": 1,
   "id": "678ea997-2d1e-4476-ad99-661bf3237e65",
   "metadata": {},
   "outputs": [],
   "source": [
    "import os\n",
    "import cv2\n",
    "import numpy as np\n",
    "import random\n",
    "from sklearn.model_selection import train_test_split"
   ]
  },
  {
   "cell_type": "code",
   "execution_count": 2,
   "id": "46922e6d-1ed3-41c5-90f1-e890577c1e88",
   "metadata": {},
   "outputs": [],
   "source": [
    "image_folder = r'C:\\Users\\S.SAI\\OneDrive\\Desktop\\LiTS\\train_images\\train_images'\n",
    "mask_folder  = r'C:\\Users\\S.SAI\\OneDrive\\Desktop\\LiTS\\train_masks\\train_masks'"
   ]
  },
  {
   "cell_type": "code",
   "execution_count": 3,
   "id": "6d2b62e5-8fa3-4ec1-a009-8bea06431d5b",
   "metadata": {},
   "outputs": [
    {
     "name": "stdout",
     "output_type": "stream",
     "text": [
      "Available tumor slices: 18834\n",
      "Available non-tumor slices: 39804\n"
     ]
    }
   ],
   "source": [
    "tumor_pairs = []\n",
    "non_tumor_pairs = []\n",
    "for fname in os.listdir(mask_folder):\n",
    "    if not fname.endswith('.jpg'):\n",
    "        continue\n",
    "\n",
    "    mask_path = os.path.join(mask_folder, fname)\n",
    "    image_path = os.path.join(image_folder, fname)\n",
    "\n",
    "    mask = cv2.imread(mask_path, cv2.IMREAD_GRAYSCALE)\n",
    "    if mask is None:\n",
    "        continue\n",
    "\n",
    "    if np.any(mask):\n",
    "        tumor_pairs.append((image_path, mask_path))\n",
    "    else:\n",
    "        non_tumor_pairs.append((image_path, mask_path))\n",
    "\n",
    "print(\"Available tumor slices:\", len(tumor_pairs))\n",
    "print(\"Available non-tumor slices:\", len(non_tumor_pairs))"
   ]
  },
  {
   "cell_type": "code",
   "execution_count": 8,
   "id": "83cf3853-2f99-438f-9de9-51da63c3b3d6",
   "metadata": {},
   "outputs": [
    {
     "name": "stdout",
     "output_type": "stream",
     "text": [
      "Training pairs: 16000\n",
      "Validation pairs: 4000\n"
     ]
    }
   ],
   "source": [
    "tumor_sample = random.sample(tumor_pairs, 10000)\n",
    "non_tumor_sample = random.sample(non_tumor_pairs, 10000)\n",
    "\n",
    "combined = tumor_sample + non_tumor_sample\n",
    "random.shuffle(combined)\n",
    "\n",
    "train_pairs, val_pairs = train_test_split(combined, test_size=0.2, random_state=42)\n",
    "print(\"Training pairs:\", len(train_pairs))\n",
    "print(\"Validation pairs:\", len(val_pairs))"
   ]
  },
  {
   "cell_type": "code",
   "execution_count": 10,
   "id": "282e432f-fb10-457e-b9c0-c6285e01159a",
   "metadata": {},
   "outputs": [
    {
     "name": "stdout",
     "output_type": "stream",
     "text": [
      "Saved: train_balanced.txt and val_balanced.txt\n"
     ]
    }
   ],
   "source": [
    "def save_to_txt(pairs, filename):\n",
    "    with open(filename, 'w') as f:\n",
    "        for img_path, mask_path in pairs:\n",
    "            f.write(f\"{img_path},{mask_path}\\n\")\n",
    "\n",
    "save_to_txt(train_pairs, 'train_balanced.txt')\n",
    "save_to_txt(val_pairs, 'val_balanced.txt')\n",
    "\n",
    "print(\"Saved: train_balanced.txt and val_balanced.txt\")"
   ]
  },
  {
   "cell_type": "code",
   "execution_count": 12,
   "id": "db59101d-e688-4572-babd-e782e9bc2fb0",
   "metadata": {},
   "outputs": [
    {
     "name": "stdout",
     "output_type": "stream",
     "text": [
      "Split train_balanced.txt into 10 chunks of 2000 each.\n"
     ]
    }
   ],
   "source": [
    "with open(\"train_balanced.txt\", \"r\") as f:\n",
    "    all_lines = f.readlines()\n",
    "random.shuffle(all_lines)\n",
    "\n",
    "# Split into 10 chunks of 2,000\n",
    "chunk_size = 2000\n",
    "for i in range(10):\n",
    "    chunk_lines = all_lines[i * chunk_size: (i + 1) * chunk_size]\n",
    "    with open(f\"chunk_{i}.txt\", \"w\") as f:\n",
    "        f.writelines(chunk_lines)\n",
    "\n",
    "print(\"Split train_balanced.txt into 10 chunks of 2000 each.\")"
   ]
  }
 ],
 "metadata": {
  "kernelspec": {
   "display_name": "Python 3 (ipykernel)",
   "language": "python",
   "name": "python3"
  },
  "language_info": {
   "codemirror_mode": {
    "name": "ipython",
    "version": 3
   },
   "file_extension": ".py",
   "mimetype": "text/x-python",
   "name": "python",
   "nbconvert_exporter": "python",
   "pygments_lexer": "ipython3",
   "version": "3.12.4"
  }
 },
 "nbformat": 4,
 "nbformat_minor": 5
}

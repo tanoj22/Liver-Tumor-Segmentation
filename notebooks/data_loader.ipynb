{
 "cells": [
  {
   "cell_type": "code",
   "execution_count": 1,
   "id": "dbef67c2-b205-4663-a55d-8a64eaffd5e9",
   "metadata": {},
   "outputs": [],
   "source": [
    "import os\n",
    "import cv2\n",
    "import torch\n",
    "import numpy as np\n",
    "from torch.utils.data import DataLoader\n",
    "from dataset import LiverTumorDataset"
   ]
  },
  {
   "cell_type": "code",
   "execution_count": 3,
   "id": "34e6ff0a-9c79-46f7-b2fc-913207d7c432",
   "metadata": {},
   "outputs": [
    {
     "name": "stdout",
     "output_type": "stream",
     "text": [
      "Image batch shape: torch.Size([2, 1, 256, 256])\n",
      "Mask batch shape : torch.Size([2, 1, 256, 256])\n"
     ]
    }
   ],
   "source": [
    "train_dataset = LiverTumorDataset('train_balanced.txt', image_size=(256, 256))\n",
    "val_dataset   = LiverTumorDataset('val_balanced.txt', image_size=(256, 256))\n",
    "\n",
    "train_loader = DataLoader(train_dataset, batch_size=2, shuffle=True, num_workers=0)\n",
    "val_loader   = DataLoader(val_dataset, batch_size=2, shuffle=False, num_workers=0)\n",
    "\n",
    "for images, masks in train_loader:\n",
    "    print(\"Image batch shape:\", images.shape)\n",
    "    print(\"Mask batch shape :\", masks.shape)\n",
    "    break"
   ]
  },
  {
   "cell_type": "code",
   "execution_count": 7,
   "id": "1db1fe53-dc70-43ac-bf5d-faae0c197763",
   "metadata": {},
   "outputs": [
    {
     "name": "stdout",
     "output_type": "stream",
     "text": [
      "Saved samples to 'image_mask_samples/tumor' and 'non_tumor'\n"
     ]
    }
   ],
   "source": [
    "output_dir_tumor = \"image_mask_samples/tumor\"\n",
    "output_dir_non_tumor = \"image_mask_samples/non_tumor\"\n",
    "os.makedirs(output_dir_tumor, exist_ok=True)\n",
    "os.makedirs(output_dir_non_tumor, exist_ok=True)\n",
    "\n",
    "tumor_saved = 0\n",
    "non_tumor_saved = 0\n",
    "i = 0\n",
    "while tumor_saved < 10 or non_tumor_saved < 10:\n",
    "    image, mask = train_dataset[i]\n",
    "\n",
    "    image_np = (image.numpy().squeeze() * 255).astype(np.uint8)\n",
    "    mask_np  = (mask.numpy().squeeze() * 255).astype(np.uint8)\n",
    "\n",
    "    image_bgr = cv2.cvtColor(image_np, cv2.COLOR_GRAY2BGR)\n",
    "    mask_bgr = cv2.cvtColor(mask_np, cv2.COLOR_GRAY2BGR)\n",
    "\n",
    "    is_tumor = np.any(mask_np)\n",
    "\n",
    "    if is_tumor and tumor_saved < 10:\n",
    "        cv2.putText(image_bgr, \"Tumor Image\", (10, 20), cv2.FONT_HERSHEY_SIMPLEX, 0.6, (200, 200, 200), 1)\n",
    "        cv2.putText(mask_bgr, \"Tumor Mask\", (10, 20), cv2.FONT_HERSHEY_SIMPLEX, 0.6, (200, 200, 200), 1)\n",
    "        combined = cv2.hconcat([image_bgr, mask_bgr])\n",
    "        cv2.imwrite(os.path.join(output_dir_tumor, f\"tumor_pair_{tumor_saved}.png\"), combined)\n",
    "        tumor_saved += 1\n",
    "\n",
    "    elif not is_tumor and non_tumor_saved < 10:\n",
    "        cv2.putText(image_bgr, \"Non-Tumor Image\", (10, 20), cv2.FONT_HERSHEY_SIMPLEX, 0.6, (200, 200, 200), 1)\n",
    "        cv2.putText(mask_bgr, \"Empty Mask\", (10, 20), cv2.FONT_HERSHEY_SIMPLEX, 0.6, (200, 200, 200), 1)\n",
    "        combined = cv2.hconcat([image_bgr, mask_bgr])\n",
    "        cv2.imwrite(os.path.join(output_dir_non_tumor, f\"non_tumor_pair_{non_tumor_saved}.png\"), combined)\n",
    "        non_tumor_saved += 1\n",
    "\n",
    "    i += 1\n",
    "\n",
    "print(\"Saved samples to 'image_mask_samples/tumor' and 'non_tumor'\")"
   ]
  },
  {
   "cell_type": "code",
   "execution_count": null,
   "id": "bb471a69-0e48-4a0a-bd21-45af050a8e2a",
   "metadata": {},
   "outputs": [],
   "source": []
  }
 ],
 "metadata": {
  "kernelspec": {
   "display_name": "Python 3 (ipykernel)",
   "language": "python",
   "name": "python3"
  },
  "language_info": {
   "codemirror_mode": {
    "name": "ipython",
    "version": 3
   },
   "file_extension": ".py",
   "mimetype": "text/x-python",
   "name": "python",
   "nbconvert_exporter": "python",
   "pygments_lexer": "ipython3",
   "version": "3.12.4"
  }
 },
 "nbformat": 4,
 "nbformat_minor": 5
}
